{
 "cells": [
  {
   "cell_type": "markdown",
   "metadata": {},
   "source": [
    "# MGSC 404 Foundations of Decision Analytics - Fall 2021\n",
    "\n",
    "# Case Study\n",
    "\n",
    "## Team Members: (Put your names and email addresses here)\n",
    "\n",
    "Note: If one student is from the other section, please specify that. "
   ]
  },
  {
   "cell_type": "markdown",
   "metadata": {},
   "source": [
    "## Section I: Introduction\n",
    "\n",
    "(Briefly summarize the background, the goal and the findings of this case study.)"
   ]
  },
  {
   "cell_type": "markdown",
   "metadata": {},
   "source": [
    "## Section II: Model "
   ]
  },
  {
   "cell_type": "markdown",
   "metadata": {},
   "source": [
    "\n",
    "**Assumptions**\n",
    "\n",
    "Our model relies on the following assumptions:\n",
    "\n",
    "1. American Office Systems, Inc. runs 2 work shifts of 8 hours every day for 20 days per month. Each quarter is made of 3 months therefore we made our full capacity the number of adapters for IBM and MAC produced each hour multiplied by the hours worked in a quarter. \n",
    "2. Forecasted sales are accurate \n",
    "3. We immediately pay the interest for borrowing in the previous quarter at the end of the following quarter \n",
    "4. Using a linear model is an appropriate approximation for an optimal strategy and further refinement will be done later. \n",
    "5. This model optimizes the accounting profit instead of the present and future cash flows of the operations. We opted for that sort of model because it depicts better the reality of the company and we found that, with the cash flow based models, the ending inventory of the last quarter was often too low to prepare for next year.\n"
   ]
  },
  {
   "cell_type": "code",
   "execution_count": 1,
   "metadata": {
    "collapsed": true
   },
   "outputs": [],
   "source": [
    "from gurobipy import *\n",
    "from datascience import *\n",
    "import numpy as np\n",
    "%matplotlib inline\n",
    "import matplotlib.pyplot as plots\n",
    "plots.style.use('fivethirtyeight')\n",
    "import math"
   ]
  },
  {
   "cell_type": "markdown",
   "metadata": {},
   "source": [
    "#### Step 1: Creating a Gurobi object"
   ]
  },
  {
   "cell_type": "code",
   "execution_count": 2,
   "metadata": {},
   "outputs": [
    {
     "name": "stdout",
     "output_type": "stream",
     "text": [
      "Academic license - for non-commercial use only - expires 2022-08-20\n",
      "Using license file /Users/weiqi/gurobi.lic\n"
     ]
    }
   ],
   "source": [
    "model = Model('case study')  "
   ]
  },
  {
   "cell_type": "markdown",
   "metadata": {},
   "source": [
    "#### Step 2: Defining Decision Variables"
   ]
  },
  {
   "cell_type": "markdown",
   "metadata": {},
   "source": [
    "**Pi** = Production for IBM adapters in units of adapters, in quarters i, where i = 1,2,3,4             \n",
    "**Pm** =  Production for MAC adapters in units of adapters, in quarters i, where i = 1,2,3,4   \n",
    "**Si** = Sales for IBM adapters in units of adapters, in quarters i, where i = 1,2,3,4   \n",
    "**Sm** = Sales for MAC adapters in units of adapters, in quarters i, where i = 1,2,3,4   \n",
    "**Mi** = Marketing for IBM adapters in units of additional adapter units sold due to marketing activities, in quarters i, where i = 1,2,3,4   \n",
    "**Mm** = Marketing for MAC adapters in units of additional adapter units sold due to marketing activities, in quarters i, where i = 1,2,3,4  <br />\n",
    "**B  =** Amount borrowed from the line of credit in units of dollars, in quarters i, where i = 1,2,3,4 <br />\n",
    "**Ei** = Ending inventory for IBM adapters in units of adapters, in quarters i, where i = 1,2,3,4   \n",
    "**Em** = Ending inventory for MAC adapters in units of adapters, in quarters i, where i = 1,2,3,4   \n",
    "**CF** =Cash flow at the end of the quarter in units of dollars, in quarters i, where i = 1,2,3,4   \n"
   ]
  },
  {
   "cell_type": "code",
   "execution_count": 3,
   "metadata": {
    "collapsed": true
   },
   "outputs": [],
   "source": [
    "#initilizing empty dictionaries\n",
    "Pi = {}  \n",
    "Pm = {} \n",
    "Si = {} \n",
    "Sm = {} \n",
    "Mi = {} \n",
    "Mm = {} \n",
    "B = {} \n",
    "Ei = {}\n",
    "Em = {} \n",
    "CF={}\n",
    "\n",
    "# Create decisions variable\n",
    "for i in np.arange(4):  \n",
    "    Pi[i] = model.addVar(lb=0)\n",
    "    Pm[i] = model.addVar(lb=0)\n",
    "    Si[i] = model.addVar(lb=0)\n",
    "    Sm[i] = model.addVar(lb=0)\n",
    "    Mi[i] = model.addVar(lb=0)\n",
    "    Mm[i] = model.addVar(lb=0)\n",
    "    B[i] = model.addVar(lb=0)\n",
    "    CF[i] = model.addVar(lb=0)\n",
    "    Ei[i] = model.addVar(lb=0)\n",
    "    Em[i] = model.addVar(lb=0)\n",
    "    # By default Gurobi assumes that the lower bound of a variable lb=0, not minus infinity."
   ]
  },
  {
   "cell_type": "markdown",
   "metadata": {},
   "source": [
    "#### Step 3: Parameters\n",
    "\n",
    "**price_ibm** = the selling price for IBM adapters  \n",
    "\n",
    "**price_mac** = the selling price for MAC adapters  \n",
    "\n",
    "**VC_ibm** =  the variable costs for IBM adapters \n",
    "\n",
    "**VC_mac** =  the variable costs for MAC adapters \n",
    "\n",
    "**beginning_inventory_ibm** =  the beginning inventory for IBM adapters at Q1  \n",
    "\n",
    "**beginning_inventory_mac** =  the beginning inventory for MAC adapters at Q1 \n",
    "\n",
    "**cost_advertising** =  the cost to sell one additional unit of either an IBM or MAC adapter  \n",
    "\n",
    "**interest_rate_LOC** = The annual interest rate for the line of credit  \n",
    "\n",
    "**fixed_costs** = The fixed costs per quarter   \n",
    "\n",
    "**depreciation**= The quarterly depreciation costs \n",
    "\n",
    "**ibm_addition**= error forecast in production of IBM adapters \n",
    "\n",
    "**mac_addition**= error forecast in production of MAC adapters"
   ]
  },
  {
   "cell_type": "code",
   "execution_count": 1,
   "metadata": {
    "collapsed": true
   },
   "outputs": [],
   "source": [
    "# parameters  \n",
    "price_ibm = 175\n",
    "price_mac = 200\n",
    "VC_ibm = 100\n",
    "VC_mac = 110\n",
    "beginning_inventory_ibm = 10000\n",
    "beginning_inventory_mac = 5000\n",
    "cost_advertising = 10\n",
    "interest_rate_LOC = 0.16\n",
    "interest_rate_bonds = 0.06\n",
    "fixed_costs = 150000\n",
    "depreciation = 400000"
   ]
  },
  {
   "cell_type": "markdown",
   "metadata": {},
   "source": [
    "#### Step 4: Constraints\n",
    "\n",
    "**Production IBM Constraints:** We included production constraints on IBM adapters of 28800 units for the first three quarters, since our calculation assumed two shifts of 8 hours a day, 20 days a month, 3 months a quarter, and 30 adapters per hour. Our last quarter has a production constraint of 31680 as that accounts for the 10% increase in capacity by the beginning of the first quarter.   \n",
    "  \n",
    "**Production MAC Constraints:** We included production constraints on MAC adapters of 9600 units for the first three quarters, since our calculation assumed two shifts of 8 hours a day, 20 days a month, 3 months a quarter, and 10 adapters per hour. Our last quarter has a production constraint of 10560 as that accounts for the 10% increase in capacity by the beginning of the first quarter. \n",
    "\n",
    "**Cash Flow Constraints:** We included constraints to define our cash flows appropriately. The first element is borrowing, where we ensure that borrowing was equal to the amount borrowed this quarter subtract the amount borrowed the previous quarter. This ensures that borrowing will never be above the $750,000k limit and leaves the flexibility for the company to vary their amount borrowed month to month as a line of credit acts as a pseudo chequing account. Following, we have the revenue from IBM and MAC sales, which are calculated using the selling price, and keeping in mind the collection percentages per quarter. After that we remove variable costs, marketing costs, the interest rate from the amount borrowed the previous quarter (see assumptions), and finally the fixed costs. Some of these are not applicable for the initial cash flow, as there has been no costs associated with borrowing yet. \n",
    "\n",
    "**Please add descriptions of other constraints yourself..**"
   ]
  },
  {
   "cell_type": "code",
   "execution_count": 5,
   "metadata": {
    "collapsed": true
   },
   "outputs": [],
   "source": [
    "# production ibm constraint\n",
    "con_production_ibm={}\n",
    "con_production_ibm[0]= model.addConstr(Pi[0]<=28800)\n",
    "con_production_ibm[1]= model.addConstr(Pi[1]<=28800)\n",
    "con_production_ibm[2]= model.addConstr(Pi[2]<=28800)\n",
    "con_production_ibm[3]= model.addConstr(Pi[3]<=31680)\n",
    "\n",
    "# production mac constraint\n",
    "con_production_mac={}\n",
    "con_production_mac[0]=model.addConstr(Pm[0]<=9600)\n",
    "con_production_mac[1]=model.addConstr(Pm[1]<=9600)\n",
    "con_production_mac[2]=model.addConstr(Pm[2]<=9600)\n",
    "con_production_mac[3]=model.addConstr(Pm[3]<=10560)\n",
    "\n",
    "# inventory management constraint ibm\n",
    "estimated_sale_ibm={}\n",
    "estimated_sale_ibm[0]=model.addConstr(Pi[0] + Ei[0] >= 1.1*Si[1])\n",
    "estimated_sale_ibm[1]= model.addConstr(Pi[1] +Ei[1] >= 1.1*Si[2])\n",
    "estimated_sale_ibm[2]= model.addConstr(Pi[2] +Ei[2] >= 1.1*Si[3])\n",
    "\n",
    "# ending inventory ibm \n",
    "ending_inventory_ibm={}\n",
    "ending_inventory_ibm[0]=model.addConstr(Ei[0] == beginning_inventory_ibm + Pi[0] - Si[0])\n",
    "ending_inventory_ibm[1]=model.addConstr(Ei[1] == Ei[0] + Pi[1] - Si[1])\n",
    "ending_inventory_ibm[2]=model.addConstr(Ei[2] == Ei[1] + Pi[2] - Si[2])\n",
    "ending_inventory_ibm[3]=model.addConstr(Ei[3] == Ei[2] + Pi[3] - Si[3])\n",
    "\n",
    "\n",
    "#ending inventory mac\n",
    "ending_inventory_mac={}\n",
    "ending_inventory_mac[0]= model.addConstr(Em[0] == beginning_inventory_mac + Pm[0] - Sm[0])\n",
    "ending_inventory_mac[1]= model.addConstr(Em[1] == Em[0] + Pm[1] - Sm[1])\n",
    "ending_inventory_mac[2]= model.addConstr(Em[2] == Em[1] + Pm[2] - Sm[2])\n",
    "ending_inventory_mac[3]= model.addConstr(Em[3] == Em[2] + Pm[3] - Sm[3])\n",
    "\n",
    "\n",
    "# cash flow\n",
    "cash_flow={}\n",
    "cash_flow[0]= model.addConstr(CF[0] == (B[0] \n",
    "                                        + price_ibm*(0.75*Si[0] + 0.20*8000 + 0.03*7000 + 0.02*7000*0.5) \n",
    "                                        + price_mac*(0.80*Sm[0] + 0.11*1600 + 0.05*1400 + 0.04*1400*0.5) \n",
    "                                        - (VC_ibm*Pi[0] + cost_advertising*Mi[0]) \n",
    "                                        - (VC_mac*Pm[0] + cost_advertising*Mm[0]) \n",
    "                                        - fixed_costs))\n",
    "cash_flow[1]=model.addConstr(CF[1] == ((B[1]-B[0]) \n",
    "                                       + price_ibm*(0.75*Si[1] + 0.20*Si[0] + 0.03*8000 + 0.02*8000*0.5) \n",
    "                                       + price_mac*(0.80*Sm[1] + 0.11*Sm[0] + 0.05*1600 + 0.04*1600*0.5) \n",
    "                                       - (VC_ibm*Pi[1] + cost_advertising*Mi[1]) \n",
    "                                       - (VC_mac*Pm[1] + cost_advertising*Mm[1]) \n",
    "                                       - B[0]*((1+interest_rate_LOC)**(0.25)-1) \n",
    "                                       - fixed_costs))\n",
    "cash_flow[2]=model.addConstr(CF[2] == ((B[2]-B[1]) \n",
    "                                       + price_ibm*(0.75*Si[2] + 0.20*Si[1] + 0.03*Si[0] + 0.02*Si[0]*0.5) \n",
    "                                       + price_mac*(0.80*Sm[2] + 0.11*Sm[1] + 0.05*Sm[0] + 0.04*Sm[0]*0.5) \n",
    "                                       - (VC_ibm*Pi[2] + cost_advertising*Mi[2]) \n",
    "                                       - (VC_mac*Pm[2] + cost_advertising*Mm[2]) \n",
    "                                       - B[1]*((1+interest_rate_LOC)**(0.25)-1) \n",
    "                                       - fixed_costs))\n",
    "cash_flow[3]=model.addConstr(CF[3] == ((B[3]-B[2]) \n",
    "                                       + price_ibm*(0.75*Si[3] + 0.20*Si[2] + 0.03*Si[1] + 0.02*Si[1]*0.5) \n",
    "                                       + price_mac*(0.80*Sm[3] + 0.11*Sm[2] + 0.05*Sm[1] + 0.04*Sm[1]*0.5) \n",
    "                                       - (VC_ibm*Pi[3] + cost_advertising*Mi[3])\n",
    "                                       - (VC_mac*Pm[3] + cost_advertising*Mm[3]) \n",
    "                                       - B[2]*((1+interest_rate_LOC)**(0.25)-1) \n",
    "                                       - fixed_costs))\n"
   ]
  },
  {
   "cell_type": "markdown",
   "metadata": {},
   "source": [
    "\n",
    "**Objective Function**\n",
    "\n",
    "$$\\max\\sum_{i\\in\\{0,1,2,3\\}}\\bigg((P_{i_i}*S_{i_i})+(P_{m_i}*S_{m_i})-(VC_{ibm}*S_{i_i})-(VC_{mac}*S_{m_i}) \\bigg)$$\n"
   ]
  },
  {
   "cell_type": "markdown",
   "metadata": {},
   "source": [
    "**Please add some explanations for your objective fuction..**"
   ]
  },
  {
   "cell_type": "code",
   "execution_count": 6,
   "metadata": {
    "collapsed": true
   },
   "outputs": [],
   "source": [
    "# objective function\n",
    "obj = (price_ibm*Si[0]+price_mac*Sm[0]-VC_ibm*Si[0]-VC_mac*Sm[0] \n",
    "       + price_ibm*Si[1]+price_mac*Sm[1]-VC_ibm*Si[1]-VC_mac*Sm[1]\n",
    "       + price_ibm*Si[2]+price_mac*Sm[2]-VC_ibm*Si[2]-VC_mac*Sm[2]\n",
    "       + price_ibm*Si[3]+price_mac*Sm[3]-VC_ibm*Si[3]-VC_mac*Sm[3])\n",
    "       \n",
    "        \n",
    "model.setObjective(obj, GRB.MAXIMIZE)"
   ]
  },
  {
   "cell_type": "code",
   "execution_count": 7,
   "metadata": {},
   "outputs": [
    {
     "name": "stdout",
     "output_type": "stream",
     "text": [
      "Gurobi Optimizer version 9.1.2 build v9.1.2rc0 (mac64)\n",
      "Thread count: 8 physical cores, 16 logical processors, using up to 16 threads\n",
      "Optimize a model with 23 rows, 40 columns and 92 nonzeros\n",
      "Model fingerprint: 0xba6420e9\n",
      "Coefficient statistics:\n",
      "  Matrix range     [1e+00, 2e+02]\n",
      "  Objective range  [8e+01, 9e+01]\n",
      "  Bounds range     [0e+00, 0e+00]\n",
      "  RHS range        [5e+03, 2e+05]\n",
      "Presolve removed 17 rows and 32 columns\n",
      "Presolve time: 0.00s\n",
      "Presolved: 6 rows, 8 columns, 18 nonzeros\n",
      "\n",
      "Iteration    Objective       Primal Inf.    Dual Inf.      Time\n",
      "       0    2.5718873e+07   3.609015e+04   0.000000e+00      0s\n",
      "      10    1.3166562e+07   0.000000e+00   0.000000e+00      0s\n",
      "\n",
      "Solved in 10 iterations and 0.01 seconds\n",
      "Optimal objective  1.316656228e+07\n"
     ]
    }
   ],
   "source": [
    "model.optimize()"
   ]
  },
  {
   "cell_type": "markdown",
   "metadata": {},
   "source": [
    "### Optimal Solution"
   ]
  },
  {
   "cell_type": "code",
   "execution_count": 8,
   "metadata": {},
   "outputs": [
    {
     "name": "stdout",
     "output_type": "stream",
     "text": [
      "The optimal solution will result in a profit of: $ 13166562.283996994 at the end of Q4 1996\n"
     ]
    }
   ],
   "source": [
    "base_model=model.ObjVal\n",
    "print(\"The optimal solution will result in a profit of:\", \"$\",model.objVal, \"at the end of Q4 1996\") "
   ]
  },
  {
   "cell_type": "code",
   "execution_count": 11,
   "metadata": {},
   "outputs": [
    {
     "name": "stdout",
     "output_type": "stream",
     "text": [
      "Here is a table containing key summary information regarding the optimal solution:\n"
     ]
    },
    {
     "data": {
      "text/html": [
       "<table border=\"1\" class=\"dataframe\">\n",
       "    <thead>\n",
       "        <tr>\n",
       "            <th>Quarters</th> <th>Production IBM</th> <th>Production Mac</th>\n",
       "        </tr>\n",
       "    </thead>\n",
       "    <tbody>\n",
       "        <tr>\n",
       "            <td>1       </td> <td>28800         </td> <td>9600          </td>\n",
       "        </tr>\n",
       "        <tr>\n",
       "            <td>2       </td> <td>28800         </td> <td>9600          </td>\n",
       "        </tr>\n",
       "        <tr>\n",
       "            <td>3       </td> <td>28800         </td> <td>9600          </td>\n",
       "        </tr>\n",
       "        <tr>\n",
       "            <td>4       </td> <td>31680         </td> <td>10560         </td>\n",
       "        </tr>\n",
       "    </tbody>\n",
       "</table>"
      ],
      "text/plain": [
       "Quarters | Production IBM | Production Mac\n",
       "1        | 28800          | 9600\n",
       "2        | 28800          | 9600\n",
       "3        | 28800          | 9600\n",
       "4        | 31680          | 10560"
      ]
     },
     "execution_count": 11,
     "metadata": {},
     "output_type": "execute_result"
    }
   ],
   "source": [
    "print(\"Here is a table containing key summary information regarding the optimal solution:\")\n",
    "Solution = Table().with_columns([\n",
    "     'Quarters',[1,2,3,4],\n",
    "    'Production IBM',[Pi[0].x, Pi[1].x,Pi[2].x,Pi[3].x],\n",
    "    'Production Mac',[Pm[0].x, Pm[1].x,Pm[2].x,Pm[3].x],    \n",
    "    ])\n",
    "Solution"
   ]
  },
  {
   "cell_type": "code",
   "execution_count": 12,
   "metadata": {},
   "outputs": [
    {
     "data": {
      "image/png": "[encoded data removed]",
      "text/plain": [
       "<Figure size 432x288 with 1 Axes>"
      ]
     },
     "metadata": {},
     "output_type": "display_data"
    }
   ],
   "source": [
    "plots.bar(Solution.column(\"Quarters\")-0.1,Solution.column(\"Production IBM\"),width=0.2,label=\"IBM Production\")\n",
    "plots.bar(Solution.column(\"Quarters\")+0.1,Solution.column(\"Production Mac\"),width=0.2,label=\"MAC Production\")\n",
    "plots.xticks([1,2,3,4])\n",
    "plots.axis(xmax=4.5,ymax=40000)\n",
    "plots.xlabel(\"Quarter\",fontsize=15)\n",
    "plots.ylabel(\"Production in units\",fontsize=15)\n",
    "plots.title(\"Production of adapters over the year 1996\",fontsize=20)\n",
    "_ =plots.legend(loc=\"upper right\")"
   ]
  },
  {
   "cell_type": "markdown",
   "metadata": {},
   "source": [
    "### Key findings from the optimal solution:\n",
    "\n",
    "..."
   ]
  },
  {
   "cell_type": "markdown",
   "metadata": {},
   "source": [
    "## Section III: Sensitivity Analysis"
   ]
  },
  {
   "cell_type": "markdown",
   "metadata": {},
   "source": [
    " (Answer Questions 5, 8, 9 in the case)"
   ]
  },
  {
   "cell_type": "markdown",
   "metadata": {},
   "source": [
    "## Section IV: Original Sensitivity Analysis\n",
    "\n",
    "(Present two original sensitivity analysis of your interest such as what if some of the data is changed, etc.)"
   ]
  },
  {
   "cell_type": "markdown",
   "metadata": {},
   "source": [
    "## Section V: Conclusion\n",
    "\n",
    "(Briefly conclude the report.)"
   ]
  },
  {
   "cell_type": "markdown",
   "metadata": {},
   "source": [
    "## Author Contributions\n",
    "\n",
    "Trudeau and Legault formulated the LP. Putin coded and solved the LP. Trudeau and Putin prepared the report. Putin and Legault conducted sensitivity analysis...\n"
   ]
  },
  {
   "cell_type": "code",
   "execution_count": null,
   "metadata": {
    "collapsed": true
   },
   "outputs": [],
   "source": []
  }
 ],
 "metadata": {
  "anaconda-cloud": {},
  "kernelspec": {
   "display_name": "Python 3",
   "language": "python",
   "name": "python3"
  },
  "language_info": {
   "codemirror_mode": {
    "name": "ipython",
    "version": 3
   },
   "file_extension": ".py",
   "mimetype": "text/x-python",
   "name": "python",
   "nbconvert_exporter": "python",
   "pygments_lexer": "ipython3",
   "version": "3.8.8"
  }
 },
 "nbformat": 4,
 "nbformat_minor": 2
}
